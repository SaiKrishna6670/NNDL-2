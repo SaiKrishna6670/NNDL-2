{
  "nbformat": 4,
  "nbformat_minor": 0,
  "metadata": {
    "colab": {
      "provenance": [],
      "mount_file_id": "11200ZQsSa1FxDre42PC7UUMz0G3B3ieq",
      "authorship_tag": "ABX9TyP5e8AMre/56znhN5SktgI2",
      "include_colab_link": true
    },
    "kernelspec": {
      "name": "python3",
      "display_name": "Python 3"
    },
    "language_info": {
      "name": "python"
    }
  },
  "cells": [
    {
      "cell_type": "markdown",
      "metadata": {
        "id": "view-in-github",
        "colab_type": "text"
      },
      "source": [
        "<a href=\"https://colab.research.google.com/github/SaiKrishna6670/NNDL-2/blob/main/NN%26DL_2.ipynb\" target=\"_parent\"><img src=\"https://colab.research.google.com/assets/colab-badge.svg\" alt=\"Open In Colab\"/></a>"
      ]
    },
    {
      "cell_type": "code",
      "execution_count": 15,
      "metadata": {
        "colab": {
          "base_uri": "https://localhost:8080/"
        },
        "id": "u_SOhr07RFCZ",
        "outputId": "5b49492a-3b4b-46cd-c3df-caf868f0191f"
      },
      "outputs": [
        {
          "output_type": "stream",
          "name": "stdout",
          "text": [
            "Enter first name \n",
            "Sai Krishna\n",
            "Enter last name \n",
            "Nuguru\n",
            "full name :  Sai Krishna Nuguru\n",
            "alternate letters :  SiKihaNgr\n"
          ]
        }
      ],
      "source": [
        "# Q 1\n",
        "\n",
        "first_name = input(\"Enter first name \\n\")\n",
        "last_name = input(\"Enter last name \\n\")\n",
        "\n",
        "def string_alternative(name):\n",
        "    return (name[::2])\n",
        "\n",
        "def fullName(first_name, last_name):\n",
        "    name = first_name + \" \" + last_name\n",
        "    print (\"full name : \", name)\n",
        "    sa = string_alternative(name)\n",
        "    print(\"alternate letters : \", sa)\n",
        "\n",
        "\n",
        "fullName(first_name, last_name)\n"
      ]
    },
    {
      "cell_type": "code",
      "source": [
        "# Q 2\n",
        "\n",
        "from collections import Counter\n",
        "# to read file\n",
        "with open('/content/drive/My Drive/input.txt', 'r') as ipFile:\n",
        "    lines = ipFile.readlines()\n",
        "\n",
        "opLines = []\n",
        "\n",
        "#file1.close()\n",
        "listOfWords = []\n",
        "\n",
        "for line in lines:\n",
        "    opLines.append(line)\n",
        "    line = line.strip()\n",
        "    listOfWords.extend(line.split(\" \"))\n",
        "\n",
        "opLines.append(\"Word_Count:\")\n",
        "elementsCount = Counter(listOfWords)\n",
        "\n",
        "# to count occurance of each word\n",
        "for ele, count in elementsCount.items():\n",
        "  opLines.append(f\"{ele} - Count: {count}\")\n",
        "\n",
        "# to add content in file\n",
        "with open('/content/drive/My Drive/output.txt', 'w') as opFile:\n",
        "    for line in opLines:\n",
        "        opFile.write(line + '\\n')\n",
        "\n",
        "ipFile.close()\n",
        "opFile.close()"
      ],
      "metadata": {
        "id": "AKprAOu5RO2t"
      },
      "execution_count": 16,
      "outputs": []
    },
    {
      "cell_type": "code",
      "source": [
        "# Q 3\n",
        "\n",
        "inches = list(map(int, input().split(\" \")))\n",
        "cmList = []\n",
        "cm_comprehensions = []\n",
        "\n",
        "# Nested Interactive loop method\n",
        "for each in inches :\n",
        "    cm  = 2.54 * each\n",
        "    cmList.append(cm)\n",
        "\n",
        "print (\"Height in cm - Nested Interactive loop method \\n\", cmList)\n",
        "\n",
        "# List Comprehension method\n",
        "cm_comprehensions = [(height * 2.54) for height in inches]\n",
        "\n",
        "print (\"Height in cm - List Comprehension method \\n\", cm_comprehensions)"
      ],
      "metadata": {
        "colab": {
          "base_uri": "https://localhost:8080/"
        },
        "id": "VNlhCs6xRXfk",
        "outputId": "51c10533-56db-4405-a3dc-2581a2fa26a1"
      },
      "execution_count": null,
      "outputs": [
        {
          "output_type": "stream",
          "name": "stdout",
          "text": [
            "3 4 2 33\n",
            "Height in cm - Nested Interactive loop method \n",
            " [7.62, 10.16, 5.08, 83.82000000000001]\n",
            "Height in cm - List Comprehension method \n",
            " [7.62, 10.16, 5.08, 83.82000000000001]\n"
          ]
        }
      ]
    }
  ]
}